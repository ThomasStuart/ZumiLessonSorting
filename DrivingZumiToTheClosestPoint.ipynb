{
 "cells": [
  {
   "cell_type": "code",
   "execution_count": 32,
   "metadata": {},
   "outputs": [],
   "source": [
    "class Point:   \n",
    "    def __init__(self, x , y ):\n",
    "        self.x  = x \n",
    "        self.y  = y\n",
    "        self.dx   = 0\n",
    "        self.dy   = 0\n",
    "        self.dist = 0\n",
    "        \n",
    "    def __lt__(self, other):\n",
    "        return self.dist < other.dist"
   ]
  },
  {
   "cell_type": "code",
   "execution_count": 33,
   "metadata": {},
   "outputs": [],
   "source": [
    "# Represting the points in the graph in code: \n",
    "points = [ Point(10,10), Point(10,7) , Point(6,8) , Point(6,5) ]\n",
    "ZumiPosition = Point(7,7) "
   ]
  },
  {
   "cell_type": "code",
   "execution_count": 34,
   "metadata": {},
   "outputs": [
    {
     "name": "stdout",
     "output_type": "stream",
     "text": [
      "4.242640687119285\n"
     ]
    }
   ],
   "source": [
    "import math \n",
    "\n",
    "# ZP = Zumi's position \n",
    "# OP = Other  position \n",
    "\n",
    "def calcDist( ZP, OP ):\n",
    "    x1 = ZP.x\n",
    "    y1 = ZP.y\n",
    "    \n",
    "    x2 = OP.x\n",
    "    y2 = OP.y\n",
    "    \n",
    "    OP.dx = dx = (x2-x1)\n",
    "    OP.dy = dy = (y2-y1)\n",
    "    \n",
    "    OP.dist = math.sqrt( (dx)**2 + (dy)**2 )\n",
    "    return OP.dist\n",
    "    \n",
    "print(  calcDist(ZumiPosition, points[0]) ) "
   ]
  },
  {
   "cell_type": "code",
   "execution_count": 35,
   "metadata": {},
   "outputs": [
    {
     "name": "stdout",
     "output_type": "stream",
     "text": [
      "\n",
      "x:10, y:10\n",
      "dx=3 , dy=3\n",
      "dist= 4.242640687119285\n",
      "\n",
      "\n",
      "x:10, y:7\n",
      "dx=3 , dy=0\n",
      "dist= 3.0\n",
      "\n",
      "\n",
      "x:6, y:8\n",
      "dx=-1 , dy=1\n",
      "dist= 1.4142135623730951\n",
      "\n",
      "\n",
      "x:6, y:5\n",
      "dx=-1 , dy=-2\n",
      "dist= 2.23606797749979\n",
      "\n"
     ]
    }
   ],
   "source": [
    "def printPoints( List ):\n",
    "    for point in List:\n",
    "        print()\n",
    "        print('x:'    + str(point.x)   + ', y:'   + str(point.y) )\n",
    "        print('dx='   + str(point.dx)  + ' , dy=' + str(point.dy))\n",
    "        print('dist= '+ str(point.dist)                          )\n",
    "        print()\n",
    "        \n",
    "# This function goes through a list of points and calls the helper method on them\n",
    "def calcAllDists(ZP, points):\n",
    "    for point in points: \n",
    "        calcDist(ZP, point)\n",
    "\n",
    "calcAllDists(ZumiPosition, points) \n",
    "printPoints(points)"
   ]
  },
  {
   "cell_type": "code",
   "execution_count": 36,
   "metadata": {},
   "outputs": [
    {
     "name": "stdout",
     "output_type": "stream",
     "text": [
      "\n",
      "x:6, y:8\n",
      "dx=-1 , dy=1\n",
      "dist= 1.4142135623730951\n",
      "\n",
      "\n",
      "x:6, y:5\n",
      "dx=-1 , dy=-2\n",
      "dist= 2.23606797749979\n",
      "\n",
      "\n",
      "x:10, y:7\n",
      "dx=3 , dy=0\n",
      "dist= 3.0\n",
      "\n",
      "\n",
      "x:10, y:10\n",
      "dx=3 , dy=3\n",
      "dist= 4.242640687119285\n",
      "\n"
     ]
    }
   ],
   "source": [
    "points.sort()\n",
    "printPoints(points)"
   ]
  },
  {
   "cell_type": "code",
   "execution_count": 44,
   "metadata": {},
   "outputs": [
    {
     "name": "stdout",
     "output_type": "stream",
     "text": [
      "Starting Zumi 1.41 test\n",
      "Pi Zero I2C is available\n",
      "Verified Pi Zero is the same\n",
      "Gyroscope previously calibrated\n",
      "Zumi board detected\n",
      "OLED Screen detected\n",
      "Gyroscope & Accelerometer detected\n"
     ]
    }
   ],
   "source": [
    "from zumi.zumi import Zumi\n",
    "zumi = Zumi() \n",
    "\n",
    "POWER = 40\n",
    "\n",
    "def zumiDrive( point ): \n",
    "    if point.dy < 0:\n",
    "        zumi.turn(180)\n",
    "    \n",
    "    travelY = abs( point.dy) \n",
    "    zumi.forward(POWER, travelY)\n",
    "    \n",
    "    if point.dx < 0:\n",
    "        zumi.turn_left(90)\n",
    "    else:\n",
    "        zumi.turn_right(90)\n",
    "    \n",
    "    travelX = abs(point.dx)\n",
    "    zumi.forward(POWER, travelX)     "
   ]
  },
  {
   "cell_type": "code",
   "execution_count": null,
   "metadata": {},
   "outputs": [],
   "source": []
  }
 ],
 "metadata": {
  "kernelspec": {
   "display_name": "Python 3",
   "language": "python",
   "name": "python3"
  },
  "language_info": {
   "codemirror_mode": {
    "name": "ipython",
    "version": 3
   },
   "file_extension": ".py",
   "mimetype": "text/x-python",
   "name": "python",
   "nbconvert_exporter": "python",
   "pygments_lexer": "ipython3",
   "version": "3.5.3"
  }
 },
 "nbformat": 4,
 "nbformat_minor": 2
}
